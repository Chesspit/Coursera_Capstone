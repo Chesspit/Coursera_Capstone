{
 "cells": [
  {
   "cell_type": "markdown",
   "metadata": {},
   "source": [
    "# A guide to finding the right neighborhood in a new (unknown) city..."
   ]
  },
  {
   "cell_type": "markdown",
   "metadata": {},
   "source": [
    "1. Introduction\n",
    "2. Data Sources\n",
    "3. How is the analysis done?\n",
    "4. My personal goals"
   ]
  },
  {
   "cell_type": "markdown",
   "metadata": {},
   "source": [
    "### 1. Introduction:"
   ]
  },
  {
   "cell_type": "markdown",
   "metadata": {},
   "source": [
    "The world is on the move! In these times people have become quite flexible. It is common to go to a different country to start a new job. **But how do you find the right neighborhood in a city you do not know?**\n",
    "\n",
    "Well, you certainly know the neigborhoods in the city in which you are currently living. You know which mix of **features** (shopping, restaurants, entertainment, green parks, public transport, education...) you are looking for. Thus you can provide **a point of reference** to find the right place somewhere else. And since you are not familiar with the new city you might be particularly concerned about safety and housing prices.\n",
    "\n",
    "Again, Toronto will serve as the city of interest. A neighborhood in Zurich, Switzerland, will be the point of reference. Obviously both choices (origin & destination) are exchangeable.\n",
    "\n",
    "**Problem:** *Find feasible neigborhoods in Toronto based on your preferences?*"
   ]
  },
  {
   "cell_type": "markdown",
   "metadata": {},
   "source": [
    "### 2. Data Sources"
   ]
  },
  {
   "cell_type": "markdown",
   "metadata": {},
   "source": [
    "The analysis will make use of different data sources:\n",
    "* The JSON-files defining Toronto's neighborhoods as used in week 3 of this IBM Data Science course\n",
    "* Foursquare-API venue data to derive the neighborhood's features\n",
    "* Housing prices from Toronto's 'Open Data Portal': https://open.toronto.ca/\n",
    "* Crime statistics using Toronto's 'Police Service Open Data Portal': http://data.torontopolice.on.ca/pages/open-data\n",
    "\n"
   ]
  },
  {
   "cell_type": "markdown",
   "metadata": {},
   "source": [
    "### 3. How is the analysis done?"
   ]
  },
  {
   "cell_type": "markdown",
   "metadata": {},
   "source": [
    "Without going in too much detail the analysis will perform following steps:\n",
    "1. Define the feature set (max 10 inputs) to be used in the analysis\n",
    "2. Derive the feature vector (characteristics) of the Zurich neighborhood (point of reference) with help of Foursquare-API\n",
    "3. Build a table of feature vectors (columns) for the Toronto neighborhoods using Foursquare-API. Add columns for housing prices and crimes\n",
    "4. Use ML-algorithms (eg k-means clustering) to find similar (with respect to the point of reference) neighborhoods in Toronto\n",
    "6. Make extensive use of visualisations & tables to show the findings of the analysis. **Be transparent and make the results comprehensible!**"
   ]
  },
  {
   "cell_type": "markdown",
   "metadata": {},
   "source": [
    "### 4. My personal goals\n"
   ]
  },
  {
   "cell_type": "markdown",
   "metadata": {},
   "source": [
    "Since this is the final step in the IBM Data Science specialization I will take the freedom to prioritize my learning goals in this project. There are particularly 3 topics I would like to get a better understanding of:\n",
    "* Explore the spectrum of data made available by Foursquare-API \n",
    "* Apply and compare different ML-algorithms. Particularly how sensitive they perform to changes in data input\n",
    "* Deepen the knowledge in visualizing results. Preferably by using the PLOTLY library\n",
    "\n",
    "With this in mind I will use some code of my week 3 assignment rather than completely *re-invent* the wheel ;-)"
   ]
  }
 ],
 "metadata": {
  "kernelspec": {
   "display_name": "Python 3",
   "language": "python",
   "name": "python3"
  },
  "language_info": {
   "codemirror_mode": {
    "name": "ipython",
    "version": 3
   },
   "file_extension": ".py",
   "mimetype": "text/x-python",
   "name": "python",
   "nbconvert_exporter": "python",
   "pygments_lexer": "ipython3",
   "version": "3.7.4"
  }
 },
 "nbformat": 4,
 "nbformat_minor": 2
}
